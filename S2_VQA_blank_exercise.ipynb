{
 "cells": [
  {
   "cell_type": "markdown",
   "id": "753ed449-5e73-4a8a-99d3-6ffa6f2ef961",
   "metadata": {},
   "source": [
    "\n",
    "# **Variational Quantum Circuits: VQE, QAOA**\n",
    "\n",
    "Wenyang Qian (qian.wenyang@usc.es), IGFAE      \n",
    "   \n",
    "March 7th, 2025   \n"
   ]
  },
  {
   "cell_type": "markdown",
   "id": "54489265-177f-4189-8d1f-be984e8f4965",
   "metadata": {},
   "source": [
    "<div class=\"alert alert-block alert-success\">\n",
    "\n",
    "**Read me before you start**  \n",
    "    \n",
    "There are 18 mini-exercises (marked in Green) in total in this Jupyter notebook:\n",
    "\n",
    "Part 1. Simulating Time Evolution with Quantum Circuit (Exercises 1-4)\n",
    "\n",
    "Part 2. Extracting Observable from Measurement (Exercises 5)\n",
    "\n",
    "Part 3. The Maxcut Problem (Exercises 6-7)\n",
    "\n",
    "Part 4. Building Variational Quantum Eigensolvers to Solve the Maxcut Problem (Exercises 8-11)\n",
    "\n",
    "Part 5. Building Quantum Approximation Optimization Algorithm to Solve the Maxcut Problem (Exercises 12-15)\n",
    "\n",
    "Most of the exercises are very straightforward, with solutions in one or two lines. Be free to ask your mentors and discss with your classmates.\n",
    "    \n",
    "</div>"
   ]
  },
  {
   "cell_type": "code",
   "execution_count": null,
   "id": "f3f06787-00dd-4d7b-9830-bc987e8588d1",
   "metadata": {},
   "outputs": [],
   "source": [
    "import numpy as np\n",
    "import matplotlib.pyplot as plt\n",
    "\n",
    "from qiskit import transpile\n",
    "from qiskit.circuit import QuantumCircuit, Parameter, ParameterVector\n",
    "from qiskit.circuit.library import PauliEvolutionGate\n",
    "from qiskit.synthesis import LieTrotter, SuzukiTrotter\n",
    "from qiskit.quantum_info import Pauli, SparsePauliOp\n",
    "from qiskit.visualization import plot_histogram\n",
    "from qiskit.primitives import Estimator, Sampler, StatevectorEstimator, StatevectorSampler\n",
    "import qiskit_aer\n",
    "import qiskit_algorithms\n",
    "import qiskit\n",
    "\n",
    "print('Qiskit version:', qiskit.version.get_version_info())"
   ]
  },
  {
   "cell_type": "markdown",
   "id": "78041f40-8a10-48ea-8755-a626257738ec",
   "metadata": {
    "tags": []
   },
   "source": [
    "## Part 1. Simulating Time Evolution with Quantum Circuit\n",
    "\n",
    "In this part, you will learn the basic tools to simulate quantum circuit for some time evolution operator $\\exp(-iHt)$. "
   ]
  },
  {
   "cell_type": "markdown",
   "id": "f315d4c0-e790-4046-af0c-d719016a262a",
   "metadata": {},
   "source": [
    "In most cases, our Hamiltonian $H$ is mapped onto quantum circuits as Pauli operators (Pauli matrices). We will first look at how to build Pauli operator using *Qiskit*."
   ]
  },
  {
   "cell_type": "markdown",
   "id": "5c8ce642-864c-4602-9277-cb63ea46f10a",
   "metadata": {},
   "source": [
    "<div class=\"alert alert-block alert-success\">\n",
    "\n",
    "### **Understanding Pauli Operator and their basic operations**  \n",
    "    \n",
    "Follow the examples and guides below to understand how to use *SparsePauliOp* class to build any Pauli operators.\n",
    "    \n",
    "You can read more about *SparsePauliOp* class [here](https://qiskit.org/documentation/stubs/qiskit.quantum_info.SparsePauliOp.html)\n",
    "</div>"
   ]
  },
  {
   "cell_type": "markdown",
   "id": "588b242a-25ce-4e39-8c19-87cdb2ff398c",
   "metadata": {},
   "source": [
    "Firstly, we can build simple one-qubit Pauli operators as follows."
   ]
  },
  {
   "cell_type": "code",
   "execution_count": null,
   "id": "6c2c3ab3-10c1-40fd-832b-4472d6ec07d9",
   "metadata": {
    "tags": []
   },
   "outputs": [],
   "source": [
    "X = SparsePauliOp('X')\n",
    "Y = SparsePauliOp('Y')\n",
    "Z = SparsePauliOp('Z')\n",
    "I = SparsePauliOp('I')\n",
    "\n",
    "print(\"Pauli-X operator:\")\n",
    "print(X.to_matrix())\n",
    "print(\"\\nPauli-Y operator:\")\n",
    "print(Y.to_matrix())\n",
    "print(\"\\nPauli-Z operator:\")\n",
    "print(Z.to_matrix())\n",
    "print(\"\\nPauli-I operator:\")\n",
    "print(I.to_matrix())"
   ]
  },
  {
   "cell_type": "markdown",
   "id": "272b0ea9-e361-496c-8798-bf17f4c4d95b",
   "metadata": {},
   "source": [
    "Make sure you check these single-qubit Pauli operators in matrix form and it should agree with your expectation.\n",
    "\n",
    "It is very important to know how to manipulate Pauli operators. Here are exacmples of the major Pauli arithmetic operations you need to know for constructing more interesting Pauli operators."
   ]
  },
  {
   "cell_type": "markdown",
   "id": "d90198ff-135e-4cd1-ac79-962f9710c24b",
   "metadata": {},
   "source": [
    "<div class=\"alert alert-block alert-success\">\n",
    "\n",
    "(a) **Tensor Product**  \n",
    "    \n",
    "To build a Multiple-qubit Pauli Operators, we typically use tensor product of individual Pauli Operators. In *Qiskit*, one uses $^$ symbol to concatenate individual Pauli Operators. See the examples below.\n",
    "\n",
    "</div>"
   ]
  },
  {
   "cell_type": "markdown",
   "id": "b99f7709-b970-427e-8e63-d68dd1cd21df",
   "metadata": {},
   "source": [
    "Example 1: 4-qubit tensor product, $I \\otimes X\\otimes Y \\otimes Z$"
   ]
  },
  {
   "cell_type": "code",
   "execution_count": null,
   "id": "110da87f-312b-4104-a138-a7109967b3c8",
   "metadata": {
    "tags": []
   },
   "outputs": [],
   "source": [
    "I^X^Y^Z"
   ]
  },
  {
   "cell_type": "markdown",
   "id": "b9ea3539-35e5-40f3-a1d0-889a48509070",
   "metadata": {},
   "source": [
    "Example 2: One can also directly build a tensor product using the class initialization."
   ]
  },
  {
   "cell_type": "code",
   "execution_count": null,
   "id": "ad3d5754-ee28-4879-bd6a-94e0e9653fd4",
   "metadata": {},
   "outputs": [],
   "source": [
    "SparsePauliOp(\"IXYZ\")"
   ]
  },
  {
   "cell_type": "markdown",
   "id": "a9b4174d-c449-4da2-b47c-fd7f26cb22b3",
   "metadata": {},
   "source": [
    "<div class=\"alert alert-block alert-success\">\n",
    "Note, Qiskit used a reversed notation, so it is actually $I_3 \\otimes X_2\\otimes Y_1 \\otimes Z_0$. The qubit index also starts with zero.\n",
    "</div>\n"
   ]
  },
  {
   "cell_type": "markdown",
   "id": "47df1066-d133-4aa6-8100-257a77107633",
   "metadata": {},
   "source": [
    "<div class=\"alert alert-block alert-success\">\n",
    "\n",
    "(b) **Scalar Product** \n",
    "\n",
    "To build a scalar product of Pauli Operators, we need to use the $*$ symbol between the scalar and the Pauli operator.\n",
    "</div>"
   ]
  },
  {
   "cell_type": "markdown",
   "id": "5c327307-fe2a-4406-8b78-d7267eb0fa1b",
   "metadata": {},
   "source": [
    "Example 1: 4-qubit tensor product, $4 I \\otimes X\\otimes Y \\otimes Z$"
   ]
  },
  {
   "cell_type": "code",
   "execution_count": null,
   "id": "d2f4a2a1-a2a3-49e5-a471-f4f44edeeab4",
   "metadata": {
    "tags": []
   },
   "outputs": [],
   "source": [
    "4*I^X^Y^Z"
   ]
  },
  {
   "cell_type": "markdown",
   "id": "c7c958be-4123-47c7-88bc-ba9cf442d164",
   "metadata": {},
   "source": [
    "Example 2: One can also directly build it using the class initialization by specifying both Pauli strings and scalar coefficients."
   ]
  },
  {
   "cell_type": "code",
   "execution_count": null,
   "id": "dcea89d9-6da1-451f-bc6f-da7ff7e20bc2",
   "metadata": {},
   "outputs": [],
   "source": [
    "SparsePauliOp(\"IXYZ\", coeffs=4)"
   ]
  },
  {
   "cell_type": "markdown",
   "id": "939a3d45-c4c0-4da6-89f2-4a76f7b6f67a",
   "metadata": {},
   "source": [
    "<div class=\"alert alert-block alert-success\">\n",
    "\n",
    "(c) **Linear Combinations of Pauli Operators**\n",
    "\n",
    "Often, we need to deal with a sum of Pauli operators, i.e., a linear combintation. You will use the $+$ symbol to write a linear combination of the Pauli operators. \n",
    "\n",
    "Note: only Pauli operators of the same number of qubits can be joined. Parenthesis are needed for grouping different components.\n",
    "</div>"
   ]
  },
  {
   "cell_type": "markdown",
   "id": "a434b431-4bcf-47e1-a255-0cfcfde77931",
   "metadata": {},
   "source": [
    "Example 1: 4-qubit linear combinations, $X\\otimes X\\otimes I \\otimes I + 2I \\otimes Y\\otimes  Y\\otimes I + 3I \\otimes I\\otimes  Z\\otimes Z$"
   ]
  },
  {
   "cell_type": "code",
   "execution_count": null,
   "id": "1d918843-c167-4780-8d25-b4f71673b3a0",
   "metadata": {
    "tags": []
   },
   "outputs": [],
   "source": [
    "(X^X^I^I) + 2*(I^Y^Y^I) + 3*(I^I^Z^Z)"
   ]
  },
  {
   "cell_type": "markdown",
   "id": "aacc1747-9fd6-4993-b4ed-96cf5818b9b1",
   "metadata": {},
   "source": [
    "Example 2: One may also build it directly."
   ]
  },
  {
   "cell_type": "code",
   "execution_count": null,
   "id": "2bab15d4-f98e-4d6d-a1aa-82f7f0b76d0c",
   "metadata": {
    "tags": []
   },
   "outputs": [],
   "source": [
    "SparsePauliOp([\"XXII\", \"IYYI\", \"IIZZ\"], coeffs=[1,2,3])"
   ]
  },
  {
   "cell_type": "markdown",
   "id": "0d6cf67b-05c2-40d9-bd68-d6a73808d83e",
   "metadata": {},
   "source": [
    "<div class=\"alert alert-block alert-success\">\n",
    "\n",
    "(d) **Product of Pauli Operators**\n",
    "\n",
    "*SparsePauliOp* class really shines when you want to compute qubitwise product of pauli operators. Mathematically, this is what we refer to as matrix multiplication. For that, we will use the $@$ symbol. \n",
    "\n",
    "In the example below, you can see it supports algebraic expression and knows Pauli matrix properties. The final result can be further simplified with *.simplify()* method.\n",
    "\n",
    "</div>"
   ]
  },
  {
   "cell_type": "markdown",
   "id": "6925bafe-66ad-4b91-a6c9-a1d72a0d5e5c",
   "metadata": {},
   "source": [
    "Example 1: Contructing an interesting Pauli operator, $4 (X_1Y_0+Y_1X_0)^2$"
   ]
  },
  {
   "cell_type": "code",
   "execution_count": null,
   "id": "54b50eb9-ecec-4c8e-a877-14d4ff6d642b",
   "metadata": {
    "tags": []
   },
   "outputs": [],
   "source": [
    "op1 = X^Y\n",
    "op2 = Y^X\n",
    "\n",
    "res = 4*(op1 + op2) @ (op1 + op2)\n",
    "\n",
    "print(res)"
   ]
  },
  {
   "cell_type": "code",
   "execution_count": null,
   "id": "65d50132-9ab8-4d55-b778-52523442e4f9",
   "metadata": {
    "tags": []
   },
   "outputs": [],
   "source": [
    "print('Sum of product after applying simplify() method:')\n",
    "print(res.simplify())"
   ]
  },
  {
   "cell_type": "markdown",
   "id": "856947a4-3c58-4b45-baa0-9a8a71d4d5d9",
   "metadata": {},
   "source": [
    "Do they agree with each other before and after simplification?"
   ]
  },
  {
   "cell_type": "markdown",
   "id": "8f824a9e-99fa-4147-bcc4-839953101fa2",
   "metadata": {},
   "source": [
    "<div class=\"alert alert-block alert-success\">\n",
    "\n",
    "### **Exercise 1. Building Multi-qubit Pauli Operator**  \n",
    "    \n",
    "Now that you have learned about the Pauli Operators, here is an exercise. \n",
    "\n",
    "Let us build Pauli Operator $$H_{sw} = \\frac{1}{2}(I_0I_1+X_0X_1 + Y_0Y_1+ Z_0Z_1)$$ using your X, Y, Z, I variables defined above. Or you can use *SparsePauliOp* directly from the list of Paulis.\n",
    "</div>"
   ]
  },
  {
   "cell_type": "code",
   "execution_count": null,
   "id": "904055ac-a3f0-487b-9076-2772c26762b4",
   "metadata": {
    "tags": []
   },
   "outputs": [],
   "source": [
    "##### ==================================\n",
    "# Write your solution in here.\n",
    "\n",
    "##### ==================================\n",
    "\n",
    "print(H_sw)"
   ]
  },
  {
   "cell_type": "markdown",
   "id": "32da2420-4b0b-44a4-9b76-35320d6b3511",
   "metadata": {},
   "source": [
    "Great, now you have build an important quantum operator. You will see in a few more steps."
   ]
  },
  {
   "cell_type": "markdown",
   "id": "4d702c45-4d81-416c-8c69-3845c1628836",
   "metadata": {},
   "source": [
    "<div class=\"alert alert-block alert-success\">\n",
    "\n",
    "In class, we learned how to simulate any time evolution operators $\\exp(-iHt)$ that is made up of many Pauli terms. Let us briefly recall,\n",
    "\n",
    "* Simplify $H$ into disjoint, commuting Pauli terms.\n",
    "* Ultilize different Trotter formulas, such as Lie-Trotter to linear order, to approximate the expression.\n",
    "* Build towers of Rz (Rotation Z gate) and CX (Control-Not gate) for purely Pauli-Z based operator\n",
    "* Prepend and Append H, or SH gates for Pauli-X and Pauli-Y based operators.\n",
    "* The coefficients naturally appear in the Rz rotation angle.\n",
    "\n",
    "In general it is very complicated. Luckily, with Qiskit, you do not worry about it. All these can be easily constructed using *PauliEvolutionGate* class. (there are also many more classes)\n",
    "\n",
    "</div>\n",
    "\n",
    "\n",
    "See an example below, to construct a two-qubit $\\exp\\big[-i (XY) t\\big]$ for t = 1.5 seconds."
   ]
  },
  {
   "cell_type": "code",
   "execution_count": null,
   "id": "0b718fe0-2b15-42e3-b8a0-2b2aeedcd9f2",
   "metadata": {
    "tags": []
   },
   "outputs": [],
   "source": [
    "peg = PauliEvolutionGate(operator=(X^Y), time=1.5)\n",
    "peg"
   ]
  },
  {
   "cell_type": "markdown",
   "id": "0d1da9f8-8c5e-4898-b7a9-f0c784189fd6",
   "metadata": {},
   "source": [
    "Note *PauliEvolutionGate* is only quantum circuit instructions. To build it into an actual quantum circuit, you will need to append these instruction to the main quantum circuit, for example below"
   ]
  },
  {
   "cell_type": "code",
   "execution_count": null,
   "id": "84c4b92e-75fa-4eda-8d49-d6c4fb2ba305",
   "metadata": {
    "tags": []
   },
   "outputs": [],
   "source": [
    "qc = QuantumCircuit(2) # our main circuit\n",
    "qc.append(peg, [0, 1]) \n",
    "# [0, 1] indicates the location of the appending operation. \n",
    "# Here, it is qubit-0 to qubit-0 and qubit-1 to qubit-1\n",
    "# as you can see in the circuit, 0 is connected to 0, 1 is connected to 1\n",
    "qc.draw(output='mpl')"
   ]
  },
  {
   "cell_type": "code",
   "execution_count": null,
   "id": "fc0d9873-a58b-4089-88ac-5831ce060dc3",
   "metadata": {},
   "outputs": [],
   "source": [
    "qc = QuantumCircuit(2) # our main circuit\n",
    "qc.compose(peg, inplace=True) \n",
    "# alternatively, one could also use \"compose\" to join circuits\n",
    "# inplace=True means modification on the original circuit\n",
    "qc.draw(output='mpl')"
   ]
  },
  {
   "cell_type": "markdown",
   "id": "eac1c36d-9413-4614-a17e-2060aa2905ea",
   "metadata": {},
   "source": [
    "<div class=\"alert alert-block alert-success\">\n",
    "\n",
    "### **Exercise 2. Building Quantum Circuit to Simulate Time Evolution Operator**  \n",
    "    \n",
    "With the above examples, let us write a generic function that takes in any Pauli operator $H$ and an evolution time $t$, and returns the quantum circuit for $\\exp(-i H t)$. \n",
    "\n",
    "Then, try use your function to build the time evolution circuit of your previous Hamiltonian $H_{sw}$. \n",
    "</div>"
   ]
  },
  {
   "cell_type": "code",
   "execution_count": null,
   "id": "97e81b05-cfac-4d80-af48-30d0f5cecb82",
   "metadata": {
    "tags": []
   },
   "outputs": [],
   "source": [
    "def time_evolve(operator, time):\n",
    "    num_qubit = operator.num_qubits\n",
    "    qc = QuantumCircuit(num_qubit)\n",
    "    ##### ==================================\n",
    "    # Write your solution in here.    \n",
    "    \n",
    "    \n",
    "    ##### ==================================\n",
    "    return qc\n",
    "\n",
    "# Test your circuit\n",
    "qc = time_evolve(H_sw, 1.5)\n",
    "qc.draw(output='mpl')"
   ]
  },
  {
   "cell_type": "code",
   "execution_count": null,
   "id": "960b2cde-78da-49eb-8104-3c28a1690802",
   "metadata": {},
   "outputs": [],
   "source": [
    "# decompose to see the component\n",
    "qc.decompose().draw(output='mpl')"
   ]
  },
  {
   "cell_type": "markdown",
   "id": "a582f1f4-4f79-4bd0-9136-16f5b2680251",
   "metadata": {},
   "source": [
    "You should see 4 Pauli exponential blocks here. Why? Because all these Pauli terms are commutative. So, we can simulate them blockwise and without error!\n",
    "\n",
    "But then you may ask, how do we verify them individually and see the tower structure of CX gates and RZ gates we saw in class?"
   ]
  },
  {
   "cell_type": "markdown",
   "id": "2253ad71-e636-4e90-a644-d603e6783645",
   "metadata": {},
   "source": [
    "<div class=\"alert alert-block alert-success\">\n",
    "\n",
    "Transpiling Quantum Circuit to Specified Gate Sets\n",
    "    \n",
    "There are more than one ways to decompose the quantum circuit. We need to transpile the quantum circuits to the specific basis gates that we are assigning them.\n",
    "\n",
    "Introducing the *transpile* function, which takes a quantum circuit and a list of basis gates. Now, transpile your quantum circuit to basis gates \"h\", \"s\", \"sdg\", \"rz\", \"cx\". Does it match your expectation?\n",
    "</div>"
   ]
  },
  {
   "cell_type": "code",
   "execution_count": null,
   "id": "600e3f36-332e-4b6c-829e-f573b3d8d930",
   "metadata": {
    "tags": []
   },
   "outputs": [],
   "source": [
    "qc = time_evolve(H_sw, 0.5)\n",
    "\n",
    "transpiled_qc = transpile(qc, basis_gates=['id', 'rz', 's', 'sdg', 'h', 'cx'], optimization_level=1)\n",
    "transpiled_qc.draw(output='mpl')"
   ]
  },
  {
   "cell_type": "markdown",
   "id": "aeca7f30-a291-43fd-92e1-8fcdfd7b2d71",
   "metadata": {},
   "source": [
    "Note, you should try to identify **three** towers of Rz gates with CXs. \n",
    "\n",
    "The $\\exp(-iIIt)=\\cos(t) II - i \\sin(t) II = \\Big(cos(t)-i\\sin(t)\\Big) II$ becomes part of the global phase that is proportional to the evolution time. Note the Global phase is already computed by *Qiskit*, so that part of the circuit is skipped."
   ]
  },
  {
   "cell_type": "markdown",
   "id": "2d02c32e-3729-4792-b31f-5d38da930321",
   "metadata": {
    "tags": []
   },
   "source": [
    "<div class=\"alert alert-block alert-success\">\n",
    "\n",
    "### **Exercise 3. Building a Quantum Circuit with Initialization and Measurement**  \n",
    "    \n",
    "Before simulating your quantum circuit, we need to add an initialization block and a measurement block.\n",
    "    \n",
    "To make things interesting, try initialize qubit-0 as $|1\\rangle$, qubit-1 as $|0\\rangle$ state, and then time evolve your $H_{sw}$ for $\\pi/2$ period, and finally add a measurement block.\n",
    "\n",
    "    \n",
    "</div>"
   ]
  },
  {
   "cell_type": "markdown",
   "id": "e3a49362-d019-4a5d-951e-30379a1fe3bb",
   "metadata": {},
   "source": [
    "Example 1: Applying an X gate on the 0th qubit and H gate on the 1st qubit of a quantum circuit, and then measure all qubits."
   ]
  },
  {
   "cell_type": "code",
   "execution_count": null,
   "id": "40172b95-92ae-4642-a65b-dbc9edd1cd07",
   "metadata": {
    "tags": []
   },
   "outputs": [],
   "source": [
    "qc = QuantumCircuit(2)\n",
    "qc.x(0)  # apply x to 0th qubit\n",
    "qc.h(1)  # apply h to 1st qubit\n",
    "qc.measure_all() # final measurement\n",
    "qc.draw(output=\"mpl\")"
   ]
  },
  {
   "cell_type": "code",
   "execution_count": null,
   "id": "c4bacc03-41b8-4413-bb61-4d9664e79507",
   "metadata": {
    "tags": []
   },
   "outputs": [],
   "source": [
    "qc = QuantumCircuit(2)\n",
    "##### ==================================\n",
    "# Write your solution in here.\n",
    "# 1. Initialize qubit_0 as |1>, qubit_1 as |0> state\n",
    "\n",
    "\n",
    "# 2. Time evolve for t = pi/2, using your function *time_evolve* \n",
    "\n",
    "\n",
    "# 3. Measure all\n",
    "\n",
    "##### ==================================\n",
    "qc.decompose().draw(output='mpl')"
   ]
  },
  {
   "cell_type": "markdown",
   "id": "4535d26b-1b79-4c92-8ebb-61d4b591d853",
   "metadata": {},
   "source": [
    "Now we have a complete circuit!\n"
   ]
  },
  {
   "cell_type": "markdown",
   "id": "6f73932a-1da6-4c0c-8d90-934c109ad864",
   "metadata": {
    "tags": []
   },
   "source": [
    "<div class=\"alert alert-block alert-success\">\n",
    "\n",
    "### **Exercise 4. Simulate with Ideal Shot-based Simulator**     \n",
    "    \n",
    "Let us simulate your quantum circuit with the ideal shot-based simulator, which means there are no quantum noises except for the statisitic uncertainties.\n",
    "\n",
    "There are many ways to do it in Qiskit, I wrote one using *StatevectorSampler* class (working for Qiskit 1.3)\n",
    "    \n",
    "Try to run different number of shots, 10, 100, 100, 1000. What do you observe?\n",
    "</div>"
   ]
  },
  {
   "cell_type": "code",
   "execution_count": null,
   "id": "82d38b8a-b098-41a5-8e60-0a3da18644a6",
   "metadata": {
    "tags": []
   },
   "outputs": [],
   "source": [
    "def sample_with_shots(circuit, shots, num_qubits, export_prob=True):\n",
    "    ''' Using StatevectorSampler class from Qiskit 1.3 \n",
    "        Ref: https://docs.quantum.ibm.com/api/qiskit/qiskit.primitives.StatevectorSampler\n",
    "    '''\n",
    "    shot_sampler = StatevectorSampler(default_shots=shots)\n",
    "    pub = (circuit)\n",
    "    job = shot_sampler.run([pub], shots=shots)\n",
    "    counts = job.result()[0].data.meas.get_counts()\n",
    "    probs = {k: v/shots for k, v in counts.items()}\n",
    "    return probs if export_prob else counts"
   ]
  },
  {
   "cell_type": "code",
   "execution_count": null,
   "id": "a1f682a1-ec21-4bb3-a6e6-a4c9cfd497cb",
   "metadata": {
    "tags": []
   },
   "outputs": [],
   "source": [
    "num_qubits = 2\n",
    "##### ==================================\n",
    "# Write your solution in here.\n",
    "# Try write each one with the type of sample function\n",
    "\n",
    "\n",
    "\n",
    "##### ==================================\n",
    "\n",
    "dist_list = [dist_10, dist_100, dist_1000, dist_10000]\n",
    "\n",
    "plot_histogram(dist_list, legend=[\"10 shots\", \"100 shots\", \"1000 shots\", \"10000 shots\"])"
   ]
  },
  {
   "cell_type": "markdown",
   "id": "6c6b5647-1977-4ed2-a703-43f09da292ca",
   "metadata": {},
   "source": [
    "Since we started with $|q_1q_0\\rangle = |01\\rangle$ state, you will see the result in **any shot** is now a $|10\\rangle$ state. \n",
    "\n",
    "Yes, that is right. You have just implemented a SWAP gate. There are many implementations of SWAP gates. Here, you simulate a SWAP gate by $\\exp(-i\\frac{(II+XX+YY+ZZ)}{2}\\theta)$ with an angle $\\theta=\\pi/2$, which your simulation time here.\n",
    "\n",
    "Now, what will happen if you try to rotate only half the angle? What do you think will happen.\n"
   ]
  },
  {
   "cell_type": "markdown",
   "id": "df83d320-026c-4304-ab72-66ddc3ea902c",
   "metadata": {
    "tags": []
   },
   "source": [
    "<div class=\"alert alert-block alert-success\">\n",
    "    \n",
    "Now we change the evolution time to $\\pi/4$. What do you see?\n",
    "    \n",
    "Try to run different number of shots, 10, 100, 100, 1000. What do you observe?\n",
    "</div>"
   ]
  },
  {
   "cell_type": "code",
   "execution_count": null,
   "id": "15d798df-cbaf-4387-ad6f-7f5bb4b32c04",
   "metadata": {
    "tags": []
   },
   "outputs": [],
   "source": [
    "qc = QuantumCircuit(2)\n",
    "##### ==================================\n",
    "# 1. Initialize qubit_0 as |1>, qubit_1 as |0> state\n",
    "qc.x(0)\n",
    "\n",
    "# 2. Time evolve for t = pi/4\n",
    "qc.append(time_evolve(H_sw, np.pi/4), [0, 1])\n",
    "\n",
    "# 3. Measure all\n",
    "qc.measure_all()\n",
    "##### ==================================\n",
    "num_qubits = 2\n",
    "\n",
    "dist_10 = sample_with_shots(qc, 10, num_qubits)\n",
    "dist_100 = sample_with_shots(qc, 100, num_qubits)\n",
    "dist_1000 = sample_with_shots(qc, 1000, num_qubits)\n",
    "dist_10000 = sample_with_shots(qc, 10000, num_qubits)\n",
    "\n",
    "dist_list = [dist_10, dist_100, dist_1000, dist_10000]\n",
    "\n",
    "plot_histogram(dist_list, legend=[\"10 shots\", \"100 shots\", \"1000 shots\", \"10000 shots\"])\n"
   ]
  },
  {
   "cell_type": "markdown",
   "id": "91835a43-811b-45d5-8d58-040a5ed4012e",
   "metadata": {},
   "source": [
    "Since we rotate only half the angle, it should be an even superposition of $|01\\rangle$ and $|10\\rangle$ states right? \n",
    "\n",
    "With the number of shots going larger and larger, the probability distributions should be 0.5 for each.\n",
    "\n",
    "In practice, this is very important property, with different angles, you can generate desire weighted sum of these one-hot encoded bitstrings, which has many applications especially in quantum machine learning and combinatorial problems."
   ]
  },
  {
   "cell_type": "markdown",
   "id": "bbaaefc0-d2d4-4ae6-8dec-c4b9f5858a75",
   "metadata": {
    "tags": []
   },
   "source": [
    "## Part 2. Extracting Observables"
   ]
  },
  {
   "cell_type": "markdown",
   "id": "5caea4ad-a024-4b56-ad15-d0356dae4bcb",
   "metadata": {
    "tags": []
   },
   "source": [
    "<div class=\"alert alert-block alert-success\">\n",
    "\n",
    "### **Exercise 5. Building Pauli Observables**  \n",
    "    \n",
    "We have talked about simulating time evolution Hamiltonian. We will now switch to discussing extracting observables from the quantum circuit. \n",
    "\n",
    "Let us first build a Pauli observable that we want to measure. Try build a Pauli operator \n",
    "$$ O_{diff} = \\frac{1}{2}\\Big((I-Z)\\otimes I - I\\otimes (I-Z)\\Big) $$\n",
    "    \n",
    "After you finish, predict what you get if measuring this observable for the distribution above?\n",
    "    \n",
    "Remember $\\frac{(I-Z)}{2}|0\\rangle = 0|0\\rangle=0$ and $\\frac{(I-Z)}{2}|1\\rangle = 1|1\\rangle$. Convince yourself that this observable counts the difference of the 1's in the two qubits.\n",
    "</div>"
   ]
  },
  {
   "cell_type": "code",
   "execution_count": null,
   "id": "ed6bd844-20b5-4211-a9c3-1ed76c418c08",
   "metadata": {
    "tags": []
   },
   "outputs": [],
   "source": [
    "##### ==================================\n",
    "# Write your solution in here.\n",
    "\n",
    "\n",
    "##### ==================================\n",
    "O_diff"
   ]
  },
  {
   "cell_type": "markdown",
   "id": "e834dd87-baf7-4930-aabe-9a8d8f3d62f6",
   "metadata": {},
   "source": [
    "<div class=\"alert alert-block alert-success\">\n",
    "    \n",
    "Extracting observables on the quantum circuit is very easy thanks to *Estimator* class. It is very similar to *Sampler* class. I have written this function *estimate_with_shots* and *estimate_with_shots_v2* for you.\n",
    "\n",
    "The first function takes into account of shots, so let us use it for this notebook.\n",
    "    \n",
    "Use the function below to test the observable you get with the different shots assigned to you.\n",
    "\n",
    "</div>"
   ]
  },
  {
   "cell_type": "code",
   "execution_count": null,
   "id": "ccf1d359-cbdc-4c63-897b-973d9fd9b66b",
   "metadata": {},
   "outputs": [],
   "source": [
    "import warnings\n",
    "warnings.filterwarnings('ignore', category=DeprecationWarning)\n",
    "\n",
    "def estimate_with_shots(circuit, observable, shots):\n",
    "    ''' Using Estimator class from earlier Qiskit versions (will be deprecated soon)\n",
    "        Still useful because one can implement shot simulation\n",
    "        Ref: https://docs.quantum.ibm.com/api/qiskit/qiskit.primitives.Estimator\n",
    "    '''\n",
    "    _circuit = circuit.copy()\n",
    "    _circuit.remove_final_measurements()\n",
    "    shot_estimator = Estimator(options={\"shots\": shots})\n",
    "    expectation = shot_estimator.run(_circuit, observable).result().values[0]\n",
    "    return expectation\n",
    "\n",
    "def estimate_with_shots_v2(circuit, observable):\n",
    "    ''' Using StatevectorEstimator class from Qiskit 1.3 \n",
    "        Ref: https://docs.quantum.ibm.com/api/qiskit/qiskit.primitives.StatevectorEstimator\n",
    "    '''\n",
    "    _circuit = circuit.copy()\n",
    "    _circuit.remove_final_measurements()\n",
    "    shot_estimator = StatevectorEstimator(shots=shots)\n",
    "    pub = (circuit, [[observable]])\n",
    "    expectation = shot_estimator.run([pub]).result()[0].data.evs[0]\n",
    "    return expectation"
   ]
  },
  {
   "cell_type": "code",
   "execution_count": null,
   "id": "b43fd65a-3749-4571-9041-0bc234376c91",
   "metadata": {
    "tags": []
   },
   "outputs": [],
   "source": [
    "shot_list = np.round(np.geomspace(10, 10000, 30))\n",
    "expectation_list = []\n",
    "\n",
    "for shots in shot_list:\n",
    "    expectation = estimate_with_shots(qc, O_diff, shots)\n",
    "    expectation_list.append(expectation)\n",
    "\n",
    "plt.scatter(shot_list, expectation_list)\n",
    "plt.ylabel(r'$\\langle O_{diff}\\rangle$', fontsize=20)\n",
    "plt.xlabel('shots', fontsize=20)\n",
    "plt.xticks(fontsize=15)\n",
    "plt.yticks(fontsize=15)\n",
    "plt.hlines(0, 0, 10000, ls='dashed')\n",
    "plt.show()"
   ]
  },
  {
   "cell_type": "markdown",
   "id": "197e1e6c-21fd-4d64-8dfd-72f5906a9c87",
   "metadata": {},
   "source": [
    "You should observe that the expectation value approaches 0 as the number of shots increase. In the ideal scenario where we have an infinitely number of shots, one expect exactly zero, since we have an even distribution of $|01\\rangle$ and $|10\\rangle$."
   ]
  },
  {
   "cell_type": "markdown",
   "id": "5f0e3f33-6664-449c-aec2-b1f12920fb45",
   "metadata": {},
   "source": [
    "In practice, we should always have enough shots as it is crucial to simulation results. Having too little shots yield inaccurate results; while having too many shots will waste a lot resources."
   ]
  },
  {
   "cell_type": "markdown",
   "id": "ef9c2a70-fe41-47b0-b5aa-744c4f615e0b",
   "metadata": {},
   "source": [
    "## Part 3. Maxcut Problem"
   ]
  },
  {
   "cell_type": "markdown",
   "id": "c80092bb-4eac-4975-972e-196abc25deca",
   "metadata": {},
   "source": [
    "<div class=\"alert alert-block alert-success\">\n",
    "\n",
    "There is an important Mathematical problem called the Maximum cut: \n",
    "\n",
    "**Given a graph of n nodes, how do we cut the graph into two partitions such that the number of edges between the two partitions are maximized?**\n",
    "\n",
    "</div>"
   ]
  },
  {
   "cell_type": "markdown",
   "id": "1b3c48ff-c393-4006-8919-439ae7a49468",
   "metadata": {},
   "source": [
    "<div class=\"alert alert-block alert-success\">\n",
    "\n",
    "This is the so-called Maxcut problem, which is an NP-hard problem in general. It has excited many algorithms to calcuate its solution. In general, a bruteforce that enumerate all possible partitions will break down at large graph limit. So people have dived into approximation algorithms to solve this combinatorial problem. It has become an important subfield in Discrete Mathematics.\n",
    "\n",
    "</div>\n",
    "\n",
    "With the advent of quantum computing, Maxcut has been applied extensively using variational quantum algorithms and for some specific subfield of this interesting problem, the quantum approach seems to beat the classical approach. \n",
    "\n",
    "Today, we will look at the formulation of an ideal Maxcut problem (i.e., no constraints, no edge weight, etc), and we will use one of the popular quantum simulation techniques, the variational quantum algorithm, to solve this problem by ourselves."
   ]
  },
  {
   "cell_type": "markdown",
   "id": "51218ba5-19d9-4e08-b482-24a8ada19a41",
   "metadata": {},
   "source": [
    "We start by loading the networkx module and some helper functions..."
   ]
  },
  {
   "cell_type": "code",
   "execution_count": null,
   "id": "97a7b9ec-3568-4b66-853a-5cfacc20530c",
   "metadata": {
    "tags": []
   },
   "outputs": [],
   "source": [
    "# make sure networkx is installed, if not you can use Pip to install it, pip install networkx\n",
    "import networkx as nx"
   ]
  },
  {
   "cell_type": "code",
   "execution_count": null,
   "id": "8cfecfb3-15e1-4cd3-a993-b9bd0c3db816",
   "metadata": {
    "tags": []
   },
   "outputs": [],
   "source": [
    "# load helpful functions\n",
    "def prepare_maxcut(n, edges):\n",
    "    '''\n",
    "    n: number of nodes in G\n",
    "    edges: list of connected edge pairs in G, make sure edges are indexed from 0, 1, to (n-1)\n",
    "    '''\n",
    "    for ei, ej in edges:\n",
    "        assert 0 <= ei < n and 0 <= ej < n, f\"Invalid edges! Edge ({ei}, {ej}) is Not allowed in a {n}-node Graph.\"\n",
    "    G = nx.Graph()\n",
    "    G.add_nodes_from(np.arange(0, n, 1))\n",
    "    G.add_edges_from(edges)\n",
    "    pos = nx.shell_layout(G)  # fix plot position, more options see \n",
    "    return G, pos\n",
    "\n",
    "def plot_maxcut(G, pos, colors=None):\n",
    "    '''\n",
    "    Plot the Maxcut problem instance\n",
    "    '''\n",
    "    if colors == None:\n",
    "        colors = [\"lightgray\" for node in G.nodes()]\n",
    "    default_axes = plt.axes(frameon=True)\n",
    "    nx.draw_networkx(G, node_color=colors, node_size=1000, alpha=1.0, ax=default_axes, pos=pos)\n",
    "    nx.draw_networkx_edges(G, pos=pos)\n",
    "    \n",
    "def get_adj_matrix(G):\n",
    "    '''\n",
    "    Return an adjacency matrix of G, representing w_ij\n",
    "    '''\n",
    "    w = np.zeros([n, n])\n",
    "    for i in range(n):\n",
    "        for j in range(n):\n",
    "            temp = G.get_edge_data(i, j, default=0)\n",
    "            if temp != 0:\n",
    "                w[i, j] = 1\n",
    "    return w\n",
    "\n",
    "def get_bruteforce_sol(G, verbose=False):\n",
    "    '''\n",
    "    Return the bruteforce solution for the adjacency matrix of a Maxcut graph.\n",
    "    '''\n",
    "    G_adj = get_adj_matrix(G)\n",
    "    best_cost_brute = 0\n",
    "    for b in range(2**n):\n",
    "        # b = 0, x = [0, 0, 0, 0]\n",
    "        # b = 1, x = [1, 0, 0, 0]\n",
    "        # b = 2, x = [0, 1, 0, 0] ...\n",
    "        x = [int(t) for t in reversed(list(bin(b)[2:].zfill(n)))]\n",
    "        cost = 0\n",
    "        for i in range(n):\n",
    "            for j in range(n):\n",
    "                cost = cost + G_adj[i, j] * x[i] * (1 - x[j])\n",
    "        if best_cost_brute < cost:\n",
    "            best_cost_brute = cost\n",
    "            xbest_brute = x\n",
    "        if verbose: print(\"case = \" + str(x) + \" cost = \" + str(cost))\n",
    "    return xbest_brute, best_cost_brute"
   ]
  },
  {
   "cell_type": "markdown",
   "id": "0ff9d012-15c5-468d-8ff0-8143714b9ee0",
   "metadata": {},
   "source": [
    "<div class=\"alert alert-block alert-success\">\n",
    "\n",
    "### **Exercise 6. Play with Maxcut problem**  \n",
    "    \n",
    "Play with these functions above \n",
    "- *prepare_maxcut*  \n",
    "- *plot_maxcut*      \n",
    "- *get_adj_matrix*   \n",
    "- *get_bruteforce_sol*\n",
    "\n",
    "See if you can come up with an interesting Maxcut problem and solve it by hand and then by the program. \n",
    "    \n",
    "Warning, be careful with the number of nodes, n, in the Graph. Your computer might crash if n is too big.\n",
    "\n",
    "</div>"
   ]
  },
  {
   "cell_type": "code",
   "execution_count": null,
   "id": "c815d52b-9be8-42ab-9d90-3c210254e0c5",
   "metadata": {
    "tags": []
   },
   "outputs": [],
   "source": [
    "# Example 1.\n",
    "n = 4\n",
    "edges = [[0, 1], [1, 2], [2, 3], [3, 0]]\n",
    "G, pos = prepare_maxcut(n, edges)\n",
    "print(\"Adjacency matrix W = \\n\", get_adj_matrix(G))\n",
    "plot_maxcut(G, pos)"
   ]
  },
  {
   "cell_type": "code",
   "execution_count": null,
   "id": "76f75e6a-144e-4ccd-b192-3d4bfa7bb1e5",
   "metadata": {
    "tags": []
   },
   "outputs": [],
   "source": [
    "xbest_brute, best_cost_brute = get_bruteforce_sol(G, verbose=True)\n",
    "print(\"\\nBest solution = \" + str(xbest_brute) + \"  Maxcut cost = \" + str(best_cost_brute))\n",
    "colors = [\"salmon\" if xbest_brute[i] == 0 else \"cornflowerblue\" for i in range(n)]\n",
    "plot_maxcut(G, pos, colors)"
   ]
  },
  {
   "cell_type": "code",
   "execution_count": null,
   "id": "f0bee822-dcf4-4996-9658-427b8b09222e",
   "metadata": {
    "tags": []
   },
   "outputs": [],
   "source": [
    "# Example 2.\n",
    "n = 6\n",
    "edges = [[0, 1], [1, 2], [2, 3], [3, 4], [4, 5], [5, 0], [3, 0], [1, 3], [3, 5]]\n",
    "G, pos = prepare_maxcut(n, edges)\n",
    "print(\"Adjacency matrix W = \\n\", get_adj_matrix(G))\n",
    "plot_maxcut(G, pos)"
   ]
  },
  {
   "cell_type": "code",
   "execution_count": null,
   "id": "231c34e5-117a-4187-8bb2-1f89b9090f50",
   "metadata": {},
   "outputs": [],
   "source": [
    "xbest_brute, best_cost_brute = get_bruteforce_sol(G, verbose=True)\n",
    "print(\"\\nBest solution = \" + str(xbest_brute) + \"  Maxcut cost = \" + str(best_cost_brute))\n",
    "colors = [\"salmon\" if xbest_brute[i] == 0 else \"cornflowerblue\" for i in range(n)]\n",
    "plot_maxcut(G, pos, colors)"
   ]
  },
  {
   "cell_type": "code",
   "execution_count": null,
   "id": "96fc868b-67bd-459a-9821-94b78413c170",
   "metadata": {
    "tags": []
   },
   "outputs": [],
   "source": [
    "# Example 3.\n",
    "n = 8\n",
    "edges = [[i, i+1] for i in range(0, n-1)] + [[n-1, 0]]\n",
    "edges += [[0, 2], [1, 3], [2, 4], [3, 7], [2, 6], [3,4], [6,7], [5,7], [0, 4], [0, 6]]\n",
    "G, pos = prepare_maxcut(n, edges)\n",
    "xbest_brute, best_cost_brute = get_bruteforce_sol(G)\n",
    "print(\"Best solution = \" + str(xbest_brute) + \"  Maxcut cost = \" + str(best_cost_brute))\n",
    "colors = [\"salmon\" if xbest_brute[i] == 0 else \"cornflowerblue\" for i in range(n)]\n",
    "plot_maxcut(G, pos, colors)"
   ]
  },
  {
   "cell_type": "markdown",
   "id": "f60bdec9-5235-44f7-b14b-5d86e28a712d",
   "metadata": {},
   "source": [
    "Did you come up with something more interesting?"
   ]
  },
  {
   "cell_type": "markdown",
   "id": "2cdb783a-65d5-481f-9e2f-50ff1b24b479",
   "metadata": {},
   "source": [
    "<div class=\"alert alert-block alert-success\">\n",
    "\n",
    "### **Exercise 7. Building the Maxcut Hamiltonian**  \n",
    "    \n",
    "From the lecture, we know the Maxcut Hamiltonian looks like,\n",
    "    \n",
    "$$    H = \\sum_{ij} w_{ij}x_i(1-x_j) = \\sum_{ij} w_{ij}\\frac{I_i-Z_i}{2}\\Big(I- \\frac{I_j-Z_j}{2}\\Big) = \\sum_{i} c_{i} Z_i + \\sum_{ij} d_{ij} Z_iZ_j$$\n",
    "    \n",
    "Use the helper function below (or come up with your own) to build the Hamiltonian for Maxcut.\n",
    "    \n",
    "Important to verify, your final, simplied Hamiltonian must only contain Pauli Z expressions.\n",
    "</div>"
   ]
  },
  {
   "cell_type": "code",
   "execution_count": null,
   "id": "1b498fd2-c99d-4af5-ac9d-cfd08af50b52",
   "metadata": {
    "tags": []
   },
   "outputs": [],
   "source": [
    "# helpful functions\n",
    "def get_x_op_at_i(i, n):\n",
    "    ''' Return an operator (I-Z)/2 at specified qubit index i, with n qubits in total '''\n",
    "    candidates = [I]*n\n",
    "    candidates[i] = (I - Z)/2\n",
    "    res = candidates[0]\n",
    "    for i in range(1, n):\n",
    "        res = res^candidates[i]\n",
    "    return res\n",
    "\n",
    "def get_I_op(n):\n",
    "    ''' Return an identity operator over n qubits'''\n",
    "    return SparsePauliOp([\"I\"*n], [1])\n",
    "\n",
    "print(get_x_op_at_i(1, 4))\n",
    "print(get_I_op(4))"
   ]
  },
  {
   "cell_type": "code",
   "execution_count": null,
   "id": "890c59ed-b556-477f-8e59-399459cb3e74",
   "metadata": {
    "tags": []
   },
   "outputs": [],
   "source": [
    "def get_Hamiltonian_of_graph(G):\n",
    "    '''\n",
    "    Get Pauli-ZZ Hamiltonian for the adjacency matrix of a graph\n",
    "    '''\n",
    "    G_adj = get_adj_matrix(G)\n",
    "    n = len(G_adj)\n",
    "    Hamiltonian = 0\n",
    "\n",
    "    for i in range(n):\n",
    "        for j in range(n):\n",
    "            if G_adj[i][j] != 0: # to speed up, avoid 0\n",
    "                ##### ==================================\n",
    "                # Write your solution in here.  \n",
    "                # basically, you try to add all nonzero pauli terms to the Hamiltonian variable\n",
    "                # each pauli term is a product of two pauli operator\n",
    "                \n",
    "                Hamiltonian = Hamiltonian + \n",
    "                \n",
    "                \n",
    "                ##### ==================================\n",
    "                \n",
    "    Hamiltonian = Hamiltonian.simplify()  # simplify algebraic expression\n",
    "    return Hamiltonian"
   ]
  },
  {
   "cell_type": "code",
   "execution_count": null,
   "id": "1ae68886-9d1f-48c4-b38f-03ef910bab48",
   "metadata": {
    "tags": []
   },
   "outputs": [],
   "source": [
    "# Verification, Hamiltonian must contain only Pauli-Z\n",
    "# Try start with a simple graph first, then move to a larger graph.\n",
    "n = 4\n",
    "edges = [[0, 1], [1, 2], [2, 3], [3, 0]]\n",
    "G, pos = prepare_maxcut(n, edges)\n",
    "H = get_Hamiltonian_of_graph(G)\n",
    "print(H)\n",
    "plot_maxcut(G, pos)"
   ]
  },
  {
   "cell_type": "markdown",
   "id": "c3f676b5-7451-4a86-ab81-64e1603ed78d",
   "metadata": {},
   "source": [
    "## Part 4. Variational Quantum Eigensolver"
   ]
  },
  {
   "cell_type": "markdown",
   "id": "99a8e5fe-7a22-46b0-9691-a911d4f4ecef",
   "metadata": {},
   "source": [
    "<div class=\"alert alert-block alert-success\">\n",
    "\n",
    "### **Exercise 8. Vartional Quantum Eigensolver, part 1**  \n",
    "    \n",
    "With the Hamiltonian defined, we know the solution to the Maxcut problem is the ground state of the Hamiltonian. To obtain the ground state, we use the Vartional Quantum Eigensolver (VQE). The VQE optimization loop consists of three essential parts\n",
    "\n",
    "- Variational ansatz\n",
    "\n",
    "- Quantum evolution and expectation evaluation, i.e. $\\langle H \\rangle = \\langle \\psi | H | \\psi \\rangle $\n",
    "    \n",
    "- Classical optimizer to update the next parameter, or exit the loop.\n",
    "    \n",
    "The following exercises will teach you build the VQE one by one, from scratch.\n",
    "    \n",
    "</div>"
   ]
  },
  {
   "cell_type": "markdown",
   "id": "58bade61-e737-4e49-98d1-212def2e63fe",
   "metadata": {},
   "source": [
    "<div class=\"alert alert-block alert-success\">\n",
    "\n",
    "We first look at the **variational ansatz**. \n",
    "\n",
    "For this part, we use the so-called Two-Local ansatz (available as *TwoLocal* class from Qiskit), where only adjacent qubit are connected (entangled). It is a commonly-used hardware-efficient ansatz, commonly used in quantum optimization problems.\n",
    "    \n",
    "</div>"
   ]
  },
  {
   "cell_type": "code",
   "execution_count": null,
   "id": "7e67704d-f1e0-4fc7-b5d8-59b07857bd4a",
   "metadata": {
    "tags": []
   },
   "outputs": [],
   "source": [
    "from qiskit.circuit.library import TwoLocal"
   ]
  },
  {
   "cell_type": "markdown",
   "id": "1609e4f4-a734-4ddc-a752-0abeec70a23f",
   "metadata": {},
   "source": [
    "Here is an example on how to build 4-qubit TwoLocal ansatz with \"ry\" rotation gates, \"cz\" entanglement gates, and a depth of 5 repeated layers, which is a good starting place for us."
   ]
  },
  {
   "cell_type": "code",
   "execution_count": null,
   "id": "7c874575-6aeb-401c-b57f-f018d6b9d353",
   "metadata": {
    "tags": []
   },
   "outputs": [],
   "source": [
    "ansatz = TwoLocal(4, \"ry\", \"cz\", reps=5, entanglement=\"linear\")\n",
    "ansatz.decompose().draw(output='mpl')"
   ]
  },
  {
   "cell_type": "markdown",
   "id": "6d77d30a-79e7-430f-8080-5afa9581bfdd",
   "metadata": {},
   "source": [
    "Play with the parameters above to generate different circuit. "
   ]
  },
  {
   "cell_type": "code",
   "execution_count": null,
   "id": "19e087c9-a254-4435-9816-977b0139d453",
   "metadata": {},
   "outputs": [],
   "source": [
    "ansatz.parameters"
   ]
  },
  {
   "cell_type": "code",
   "execution_count": null,
   "id": "faaf6cae-c0a3-4369-8464-8f3639da3ade",
   "metadata": {},
   "outputs": [],
   "source": [
    "len(ansatz.parameters)"
   ]
  },
  {
   "cell_type": "markdown",
   "id": "99c19814-a6fd-4ade-b399-8a33b96fb52d",
   "metadata": {},
   "source": [
    "Importantly, how many parameters do you see in the variational ansatz you built (by calling the *ansatz.parameters*)?\n",
    "\n",
    "Let's write a function to build an ansatz for graph of any node size $n$ and an arbitrary number of layers."
   ]
  },
  {
   "cell_type": "code",
   "execution_count": null,
   "id": "64f5df17-d4ad-4fd7-9ffd-c6062d17e886",
   "metadata": {
    "tags": []
   },
   "outputs": [],
   "source": [
    "# build our own function using the example above \n",
    "def get_ansatz(n, layers):\n",
    "    ##### ==================================\n",
    "    # Write your solution in here.  \n",
    "    ansatz = \n",
    "    \n",
    "    \n",
    "    ##### ==================================\n",
    "    return ansatz\n",
    "\n",
    "# test\n",
    "empty_ansatz = get_ansatz(6, 3)\n",
    "empty_ansatz.decompose().draw(output='mpl')"
   ]
  },
  {
   "cell_type": "markdown",
   "id": "5e96c5e9-42c1-49dd-90c7-f9c7f2ab1960",
   "metadata": {},
   "source": [
    "Importantly, the ansatz you just built are without any specified parameters. To bind your variational circuit with some parameters. Use the *assign_parameters()* functions."
   ]
  },
  {
   "cell_type": "code",
   "execution_count": null,
   "id": "ecd3c2b7-1978-46c8-889a-588c05592cdc",
   "metadata": {},
   "outputs": [],
   "source": [
    "num_params = empty_ansatz.num_parameters\n",
    "\n",
    "binded_ansatz = empty_ansatz.assign_parameters([0.1*i for i in range(num_params)]) # input parameters need to match the dimension of ansatz parameters\n",
    "\n",
    "binded_ansatz.decompose().draw(output='mpl')"
   ]
  },
  {
   "cell_type": "markdown",
   "id": "37e8d864-3196-4480-937d-bacfaed60bc3",
   "metadata": {},
   "source": [
    "<div class=\"alert alert-block alert-success\">\n",
    "\n",
    "### **Exercise 9. Vartional Quantum Eigensolver, part 2**  \n",
    "    \n",
    "We now look at evaluating the expectation, i.e., measuring the observable.\n",
    "    \n",
    "We write an *get_expectation* function to take in a variantional ansatz, a list of parameters, an observable, and a shot number. It returns the expectation value. \n",
    "    \n",
    "Try take advantage of our own function *estimate_with_shots* defined earlier.\n",
    "    \n",
    "Note, the ansatz qubits and the observable qubits must be the identical.\n",
    "        \n",
    "</div>"
   ]
  },
  {
   "cell_type": "code",
   "execution_count": null,
   "id": "6ce9e4b1-b25b-4536-8ee6-2d9f0b769d52",
   "metadata": {
    "tags": []
   },
   "outputs": [],
   "source": [
    "def get_expectation(ansatz, params, observable, shots):\n",
    "    assert ansatz.num_qubits == observable.num_qubits, f\"ansatz qubits = {ansatz.num_qubits}, observable qubits = {observable.num_qubits}\"\n",
    "    assert len(params) == ansatz.num_parameters\n",
    "    ##### ==================================\n",
    "    # Write your solution in here.  \n",
    "    circuit = \n",
    "    \n",
    "    expectation = \n",
    "    \n",
    "    ##### ==================================\n",
    "    return expectation"
   ]
  },
  {
   "cell_type": "code",
   "execution_count": null,
   "id": "97639c48-a4a8-4a69-b0c7-0d34093320ca",
   "metadata": {
    "tags": []
   },
   "outputs": [],
   "source": [
    "# test\n",
    "# maxcut problem instance\n",
    "n = 4\n",
    "edges = [[0, 1], [1, 2], [2, 3], [3, 0]]\n",
    "G, pos = prepare_maxcut(n, edges)\n",
    "\n",
    "# building ansatz and observable\n",
    "ansatz_ex = get_ansatz(n, 3)\n",
    "parameters = [0.1]*ansatz_ex.num_parameters\n",
    "observable = get_Hamiltonian_of_graph(G)\n",
    "\n",
    "# expectation\n",
    "get_expectation(ansatz_ex, parameters, observable, 1000)"
   ]
  },
  {
   "cell_type": "markdown",
   "id": "dcba9b67-7818-4073-8a36-3b423a7a751b",
   "metadata": {},
   "source": [
    "Note, your *get_expectation* function should return a single value, which is the expectation value of quantum state generated by the ansatz. By tuning the parameters, you will see that this expectation value is different."
   ]
  },
  {
   "cell_type": "markdown",
   "id": "f0eeee27-7162-4280-9bb2-16b446d46ef2",
   "metadata": {},
   "source": [
    "Interestingly, with fixed parameters, this function might also return something that is different each time. Try the following test."
   ]
  },
  {
   "cell_type": "code",
   "execution_count": null,
   "id": "758f3768-0a29-4dde-b3e4-2992351d5f10",
   "metadata": {},
   "outputs": [],
   "source": [
    "shots = 1000\n",
    "for i in range(10):\n",
    "    val = get_expectation(ansatz_ex, parameters, observable, shots)\n",
    "    print(f'run {i} expectation = {val:>.10}')"
   ]
  },
  {
   "cell_type": "markdown",
   "id": "da41d80b-125c-4124-9f90-d7df71850028",
   "metadata": {},
   "source": [
    "This is because of shot uncertainties. Try using a significantly larger number of shots and see what happens :)"
   ]
  },
  {
   "cell_type": "markdown",
   "id": "f7910499-bb66-4296-beb5-f312a955cfa2",
   "metadata": {},
   "source": [
    "Essentially, the VQE algorithm will find the optimal parameter of the ansatz when this expectation value is minimized. By the Variational Principle, when the expectation minimizes, our guess wavefunction approaches the ideal wavefunction, and thus becomes the ground state of the target Hamiltonian\n",
    "\n",
    "In short, your ansatz with optimal parameters becomes your ideal wavefunction."
   ]
  },
  {
   "cell_type": "markdown",
   "id": "3c60723c-b4bd-4b6d-a4bd-96de1109e9e8",
   "metadata": {},
   "source": [
    "<div class=\"alert alert-block alert-success\">\n",
    "\n",
    "### **Exercise 10. Vartional Quantum Eigensolver, part 3**  \n",
    "    \n",
    "We now look at the last step, which is the optimization using classical optimizer, to complete our VQE function.\n",
    "    \n",
    "Our *vqe_from_scratch* takes a Maxcut problem instance G, a variational ansatz, and number of shots.\n",
    "    \n",
    "Specifically, we use Qiskit's *COBYLA* optimizers. Since *COBYLA* only has a *minimize* method, and we try to maximize the expectation observable (because it is called Maxcut!), we should evaluate $-\\langle H \\rangle$ in the *COBYLA.minimize* method. Maximum iterations, i.e., *maxiter*, should also be supplied.\n",
    "        \n",
    "To make results somewhat comparable, we add *random_seed* argument for initializing the parameter. However, simulation itself still involves randomness (a topic for another day).\n",
    "\n",
    "There are a lot of optimizers you can use if you are interested, available in [qiskit.algorithms.optimizers](https://qiskit.org/documentation/stubs/qiskit.algorithms.optimizers.html). If you are using other classes, call_back functions need modify, see comments within.\n",
    "</div>"
   ]
  },
  {
   "cell_type": "code",
   "execution_count": null,
   "id": "fe2dfd43-ab39-4b31-af15-706a39a5e8cf",
   "metadata": {
    "tags": []
   },
   "outputs": [],
   "source": [
    "from qiskit_algorithms.optimizers import COBYLA\n",
    "# from qiskit.algorithms.optimizers import COBYLA # if last line does not work, use this one (but I recommend first line)\n",
    "\n",
    "def maxcut_vqe_from_scratch(G, ansatz, shots, maxiter=300, random_seed=0, verbose=True):\n",
    "    '''\n",
    "    Our VQE from scratch for Maxcut problem G\n",
    "    \n",
    "    Return the VQE optimization result and its history\n",
    "    \n",
    "    '''\n",
    "    \n",
    "    # Helper function\n",
    "    exp_val_list = []\n",
    "    def callback(params):\n",
    "        '''\n",
    "        Callback to record expectation history and more!\n",
    "           It is always optimizer dependent, so very tricky in general, for other optimizers, \n",
    "           you will need modify the argument to callback(num_eval, param, f_eval, step, acc) instead\n",
    "        '''\n",
    "        exp_val = get_expectation(ansatz, params, observable, shots)\n",
    "        exp_val_list.append(exp_val)\n",
    "        if verbose == True: print(f\"step {len(exp_val_list):>4}:  <H> = {exp_val:>6.3f}\")\n",
    "    \n",
    "    initial_parameters = [0.1]*ansatz.num_parameters\n",
    "    observable = get_Hamiltonian_of_graph(G)\n",
    "    \n",
    "    def minimize_func(params):\n",
    "        ##### ==================================\n",
    "        # Write your solution in here.     \n",
    "        value_to_maximize = \n",
    "        \n",
    "        ##### ==================================\n",
    "        return value_to_maximize\n",
    "\n",
    "    np.random.seed(random_seed)\n",
    "    initial_params = 0.1* np.random.random(ansatz.num_parameters)\n",
    "    opt = COBYLA(maxiter=maxiter, callback=callback)\n",
    "    \n",
    "    res = opt.minimize(minimize_func, initial_params)\n",
    "    \n",
    "    return res, exp_val_list"
   ]
  },
  {
   "cell_type": "code",
   "execution_count": null,
   "id": "4ef882c9-e409-49a1-837e-bf27dad452ea",
   "metadata": {
    "scrolled": true,
    "tags": []
   },
   "outputs": [],
   "source": [
    "# test\n",
    "# maxcut problem instance\n",
    "n = 4\n",
    "edges = [[0, 1], [1, 2], [2, 3], [3, 0]]\n",
    "G, pos = prepare_maxcut(n, edges)\n",
    "\n",
    "# building ansatz and observable\n",
    "ansatz = get_ansatz(n, 1)\n",
    "\n",
    "# vqe\n",
    "opt_res, exp_val_list = maxcut_vqe_from_scratch(G, ansatz, shots=1000)"
   ]
  },
  {
   "cell_type": "code",
   "execution_count": null,
   "id": "f79c06c7-e982-4c9d-8c34-ffcce223644e",
   "metadata": {
    "tags": []
   },
   "outputs": [],
   "source": [
    "def plot_vqe_exp_val_list(exp_val_list, G=None):\n",
    "    N = len(exp_val_list)\n",
    "    xs = np.arange(1, N+1)\n",
    "    plt.scatter(xs, exp_val_list, label='quantum simulation')\n",
    "    plt.ylabel(r'Maxcut', fontsize=20)\n",
    "    plt.xlabel('Iteration step', fontsize=20)\n",
    "    plt.xticks(fontsize=15)\n",
    "    plt.yticks(fontsize=15)\n",
    "    if G != None:\n",
    "        xBest, costBest = get_bruteforce_sol(G)\n",
    "        plt.hlines(costBest, 0, N, ls='dashed', color='red', label='bruteforce')\n",
    "    plt.legend(fontsize=15)\n",
    "    plt.show()\n",
    "    \n",
    "# visualize result   \n",
    "plot_vqe_exp_val_list(exp_val_list)"
   ]
  },
  {
   "cell_type": "code",
   "execution_count": null,
   "id": "f4321119-cbda-4046-8196-bfcb82123f89",
   "metadata": {
    "tags": []
   },
   "outputs": [],
   "source": [
    "# visualize with bruteforce\n",
    "plot_vqe_exp_val_list(exp_val_list, G)"
   ]
  },
  {
   "cell_type": "markdown",
   "id": "de3f006b-f24c-4cce-8488-904c0c507de1",
   "metadata": {},
   "source": [
    "If you see your simulation result agrees with the bruteforce as step increases, that indicates your algorithm is correct!\n",
    "\n",
    "Big congratulations! You have implemented VQE from scratch, essentially."
   ]
  },
  {
   "cell_type": "markdown",
   "id": "bed00f1e-db6f-4b02-bf63-91c321483c7f",
   "metadata": {},
   "source": [
    "<div class=\"alert alert-block alert-success\">\n",
    "\n",
    "### **Exercise 11. Vartional Quantum Eigensolver, part 4**  \n",
    "    \n",
    "Hopefully your VQE optimization is working and you obtain the expected result with bruteforce calculation. Congratulations! It is a big step.\n",
    "    \n",
    "Now, you may wonder how do I know my optimal solution, i.e., the binary variable $x$? Afterall, we also need to know how to partition the graph, where the maximum cut is reached? \n",
    "    \n",
    "The answer is you just need to sample the quantum state with your final, optimal parameters of the ansatz! Use your *sample_with_shots* or *sample_with_shots_v2* class defined before.\n",
    "</div>"
   ]
  },
  {
   "cell_type": "code",
   "execution_count": null,
   "id": "320f7e81-5931-438c-bca3-738ebcd0d043",
   "metadata": {
    "tags": []
   },
   "outputs": [],
   "source": [
    "# your optimal parameters is in the x method of your opt_res object\n",
    "opt_res.x"
   ]
  },
  {
   "cell_type": "code",
   "execution_count": null,
   "id": "7ee80b40-09c2-4ae1-96e9-95e602df6731",
   "metadata": {
    "tags": []
   },
   "outputs": [],
   "source": [
    "def sample_probability_dist(ansatz, optimization_result, shots):\n",
    "    num_qubits = ansatz.num_qubits\n",
    "    optimal_param = optimization_result.x\n",
    "    ##### ==================================\n",
    "    # Write your solution in here. \n",
    "    \n",
    "\n",
    "    \n",
    "    ##### ==================================\n",
    "    return dist"
   ]
  },
  {
   "cell_type": "code",
   "execution_count": null,
   "id": "f81d3f1e-f58a-4d37-91e0-42b017ed4a89",
   "metadata": {
    "tags": []
   },
   "outputs": [],
   "source": [
    "dist = sample_probability_dist(ansatz, opt_res, 1024)\n",
    "print(dist)\n",
    "plot_histogram(dist)\n",
    "# plot_probability_dist(dist)"
   ]
  },
  {
   "cell_type": "markdown",
   "id": "e749b0ad-7165-4aac-86db-be4cf46fa50f",
   "metadata": {},
   "source": [
    "Note both 0101 and 1010 are correct solutions, because it does not matter if you call which one in partition which. It is just a label. So we literally achieved nearly 100 % accuracy!\n",
    "\n",
    "Now, checking with bruteforce solution : )"
   ]
  },
  {
   "cell_type": "code",
   "execution_count": null,
   "id": "cbea83e1-2540-482f-b052-96fe7ce1684d",
   "metadata": {},
   "outputs": [],
   "source": [
    "# cross check with bruteforce\n",
    "xbest_brute, best_cost_brute = get_bruteforce_sol(G, verbose=False)\n",
    "print(\"Best solution = \" + str(xbest_brute) + \"  Maxcut cost = \" + str(best_cost_brute))\n",
    "colors = [\"salmon\" if xbest_brute[i] == 0 else \"cornflowerblue\" for i in range(n)]\n",
    "plot_maxcut(G, pos, colors)"
   ]
  },
  {
   "cell_type": "code",
   "execution_count": null,
   "id": "a632426b-8782-44bd-b1de-173f01ac5627",
   "metadata": {},
   "outputs": [],
   "source": [
    "# You can use my function to generate a random maxcut graph of n nodes and desired node connectivity.\n",
    "def prepare_random_maxcut(n, connectivity=0.3):\n",
    "    '''\n",
    "    Some hard maxcut graph generator, not an ideal one\n",
    "    '''\n",
    "    assert 0 <= connectivity < 1, \"Connectivity is between 0 and 1\"\n",
    "    edges = []\n",
    "    for i in range(n):\n",
    "        for j in range(n):\n",
    "            if i == j: continue\n",
    "            e, re = [i, j], [j, i]\n",
    "            if re in edges: continue # can be optimized with cache\n",
    "            if np.random.random() < connectivity:\n",
    "                edges.append(e)\n",
    "    G, pos = prepare_maxcut(n, edges)\n",
    "    return G, pos"
   ]
  },
  {
   "cell_type": "markdown",
   "id": "465de54b-8464-4915-ba46-a71a73a0c44f",
   "metadata": {},
   "source": [
    "## Part 5. Quantum Approximation Optimization Algorithm"
   ]
  },
  {
   "cell_type": "markdown",
   "id": "7bc95f92-d5d5-4174-867c-35e3bab45e78",
   "metadata": {},
   "source": [
    "<div class=\"alert alert-block alert-success\">\n",
    "\n",
    "### **Exercise 12. Quantum Approximation Optimization Algorithm, part 1**  \n",
    "    \n",
    "Another promising variational approach to tackle the problem of finding the ground state and its energy is the Quantum Approximation Optimization Algorithm (QAOA). Like VQE, the QAOA is also an variational approach, consist of the same three steps.\n",
    "\n",
    "The main difference is that QAOA approach takes inspiration of the Hamiltonian operators, with special emphasis on the type of variational ansatzes used in the simulation. \n",
    "\n",
    "The QAOA begins with an initialization circuit. Instead of using an arbitrary heuristic ansatz, the QAOA uses a problem-inspired ansatz made up of the following two individual parts for each layers:\n",
    "\n",
    "1. Initialization circuit\n",
    "   \n",
    "- Variational ansatz of many layers\n",
    "  2. Ansatz for Problem Hamitlonian\n",
    "  3. Ansatz for Mixer Hamiltonian\n",
    "\n",
    "The following exercises will teach you build the ansatz for QAOA one by one, from scratch.\n",
    "\n",
    "First, we look at how to initialize the QAOA circuit. This is done by applying the Hadamard gate on each qubit.\n",
    "    \n",
    "</div>"
   ]
  },
  {
   "cell_type": "code",
   "execution_count": null,
   "id": "d66cc277-d33a-4bc8-9cdd-4bf5ca9f3bde",
   "metadata": {},
   "outputs": [],
   "source": [
    "def initialize_circuit(n):\n",
    "    ##### ==================================\n",
    "    # Write your solution in here.  \n",
    "\n",
    "    \n",
    "    \n",
    "    ##### ==================================  \n",
    "    return qc\n",
    "\n",
    "#test\n",
    "n = 4\n",
    "initialize_circuit(n).draw()"
   ]
  },
  {
   "cell_type": "markdown",
   "id": "eca4d722-eff8-4895-8d1c-54363d7252d9",
   "metadata": {},
   "source": [
    "<div class=\"alert alert-block alert-success\">\n",
    "\n",
    "### **Exercise 13. Quantum Approximation Optimization Algorithm, part 2**  \n",
    "    \n",
    "Now for the variational ansatz. Unlike VQE, the ansatz for QAOA consists of a problem Hamiltonian and mixer Hamiltonian. The problem Hamiltonian is *directly* inspired by the physical problem. \n",
    "\n",
    "For simplicity, we can build one that is just the time evolution of the Hamitlonian for the Maxcut problem.\n",
    "    \n",
    "</div>"
   ]
  },
  {
   "cell_type": "code",
   "execution_count": null,
   "id": "7d5e3a68-eafa-41c8-8874-c96405492886",
   "metadata": {},
   "outputs": [],
   "source": [
    "def problem_ansatz(n, H_op, angle):\n",
    "    ##### ==================================\n",
    "    # Write your solution in here.  \n",
    "\n",
    "    \n",
    "    ##### ==================================  \n",
    "    return qc\n",
    "\n",
    "#test\n",
    "n = 4\n",
    "G, pos = prepare_random_maxcut(n, connectivity=0.5)\n",
    "H_op = get_Hamiltonian_of_graph(G)\n",
    "print(H_op)\n",
    "angle = 0.5\n",
    "problem_ansatz(n, H_op, angle).draw()"
   ]
  },
  {
   "cell_type": "markdown",
   "id": "62aa8530-fa05-4590-b2a1-9a6dae1b907f",
   "metadata": {},
   "source": [
    "<div class=\"alert alert-block alert-success\">\n",
    "\n",
    "### **Exercise 14. Quantum Approximation Optimization Algorithm, part 3**  \n",
    "    \n",
    "For the Mixer Hamiltonian, it can also be very versatile. In general, one would want it to non-commute with the problem Hamiltonian to make its way to the optimal solution. \n",
    "\n",
    "Usually we use rotational-X gates.\n",
    "    \n",
    "</div>"
   ]
  },
  {
   "cell_type": "code",
   "execution_count": null,
   "id": "389b3775-f49a-40b1-9603-b26d0a6d7a89",
   "metadata": {},
   "outputs": [],
   "source": [
    "def mixer_ansatz(n, angle):\n",
    "    ##### ==================================\n",
    "    # Write your solution in here.  \n",
    "\n",
    "    \n",
    "    ##### ==================================  \n",
    "    return qc\n",
    "\n",
    "#test\n",
    "n = 4\n",
    "angle = 0.5\n",
    "mixer_ansatz(n, angle).draw()"
   ]
  },
  {
   "cell_type": "markdown",
   "id": "51aacda1-5a78-436d-9ef3-b6906688de84",
   "metadata": {},
   "source": [
    "<div class=\"alert alert-block alert-success\">\n",
    "\n",
    "### **Exercise 15. Quantum Approximation Optimization Algorithm, part 4**  \n",
    "    \n",
    "Now, put together your problem ansatz and your mixer ansatz to build the QAOA ansatz for your Maxcut problem!\n",
    "    \n",
    "</div>"
   ]
  },
  {
   "cell_type": "code",
   "execution_count": null,
   "id": "6df9a88c-269e-4bc9-8527-a5a3776cd7ad",
   "metadata": {
    "tags": []
   },
   "outputs": [],
   "source": [
    "# build our own function using the example above \n",
    "def get_QAOA_ansatz(n, H_op, layers):\n",
    "    qc = QuantumCircuit(n)\n",
    "    # initialization circuit\n",
    "    qc.append(initialize_circuit(n), range(n))\n",
    "\n",
    "    params = ParameterVector('p', length=2*layers)\n",
    "    \n",
    "    for i in range(layers):\n",
    "    ##### ==================================\n",
    "    # Write your solution in here.          \n",
    "        \n",
    "        \n",
    "        \n",
    "    ##### ==================================\n",
    "    return qc\n",
    "\n",
    "# test\n",
    "n = 4\n",
    "layers = 2\n",
    "G, pos = prepare_random_maxcut(n, connectivity=0.5)\n",
    "H_op = get_Hamiltonian_of_graph(G)\n",
    "print(H_op)\n",
    "\n",
    "empty_ansatz = get_QAOA_ansatz(n, H_op, layers)\n",
    "empty_ansatz.decompose().draw(output='mpl')"
   ]
  },
  {
   "cell_type": "markdown",
   "id": "915f9f60-446a-4da0-bd8a-b8492de7898d",
   "metadata": {},
   "source": [
    "Importantly, the ansatz you just built are without any specified parameters. To bind your variational circuit with some parameters. Use the *bind_parameters()* functions."
   ]
  },
  {
   "cell_type": "code",
   "execution_count": null,
   "id": "04a8e370-00f8-4df5-ac89-9e549730ee81",
   "metadata": {},
   "outputs": [],
   "source": [
    "num_params = empty_ansatz.num_parameters\n",
    "\n",
    "binded_ansatz = empty_ansatz.assign_parameters([0.1]*layers+[0.5]*layers) # input parameters need to match the dimension of ansatz parameters\n",
    "\n",
    "binded_ansatz.decompose().draw(output='mpl')"
   ]
  },
  {
   "cell_type": "markdown",
   "id": "565eccce-097e-4603-9d1d-33a1df4d2bcd",
   "metadata": {},
   "source": [
    "<div class=\"alert alert-block alert-success\">\n",
    "\n",
    "Let us test and compare your VQE and QAOA ansatz performance on some interesting graphs!\n",
    "\n",
    "</div>"
   ]
  },
  {
   "cell_type": "code",
   "execution_count": null,
   "id": "309f1278-f94e-405f-adc0-09862caf3209",
   "metadata": {
    "tags": []
   },
   "outputs": [],
   "source": [
    "# test\n",
    "# maxcut problem instance\n",
    "n = 8\n",
    "G, pos = prepare_random_maxcut(n, 0.3)\n",
    "H_op = get_Hamiltonian_of_graph(G)\n",
    "xbest_brute, best_cost_brute = get_bruteforce_sol(G)\n",
    "print(\"Best solution = \" + str(xbest_brute) + \"  Maxcut cost = \" + str(best_cost_brute))\n",
    "colors = [\"salmon\" if xbest_brute[i] == 0 else \"cornflowerblue\" for i in range(n)]\n",
    "plot_maxcut(G, pos, colors)\n",
    "\n",
    "# n = 4\n",
    "# edges = [[0, 1], [1, 2], [2, 3], [3, 0]]\n",
    "# G, pos = prepare_maxcut(n, edges)\n"
   ]
  },
  {
   "cell_type": "code",
   "execution_count": null,
   "id": "b8fd1abd-e20a-495b-87a5-52d7d3248d67",
   "metadata": {},
   "outputs": [],
   "source": [
    "random_seed = 10\n",
    "maxiter = 1000\n",
    "shots   = 8000\n",
    "\n",
    "# vqe\n",
    "layers = 2\n",
    "vqe_ansatz = get_ansatz(n, layers)\n",
    "vqe_opt_res, vqe_exp_val_list = maxcut_vqe_from_scratch(G, vqe_ansatz, shots=shots, verbose=False, maxiter=maxiter, random_seed=random_seed)\n",
    "print(f'VQE finishes, total params = {layers*n*2}')\n",
    "\n",
    "# qaoa\n",
    "layers = 5\n",
    "qaoa_ansatz = get_QAOA_ansatz(n, H_op, layers)\n",
    "qaoa_opt_res, qaoa_exp_val_list = maxcut_vqe_from_scratch(G, qaoa_ansatz, shots=shots, verbose=False, maxiter=maxiter, random_seed=random_seed)\n",
    "print(f'QAOA finishes, total params = {layers*2}')\n"
   ]
  },
  {
   "cell_type": "code",
   "execution_count": null,
   "id": "fa2967b3-fa8a-41b8-b646-18d8180ee712",
   "metadata": {},
   "outputs": [],
   "source": [
    "def plot_multiple_exp_val_list(exp_val_lists, labels, G=None):\n",
    "    max_N = 0\n",
    "    for i, exp_val_list in enumerate(exp_val_lists):\n",
    "        N = len(exp_val_list)\n",
    "        max_N = max(max_N, N)\n",
    "        xs = np.arange(1, N+1)\n",
    "        plt.scatter(xs, exp_val_list, label=labels[i])\n",
    "    plt.ylabel(r'Maxcut', fontsize=20)\n",
    "    plt.xlabel('Iteration step', fontsize=20)\n",
    "    plt.xticks(fontsize=15)\n",
    "    plt.yticks(fontsize=15)\n",
    "    if G != None:\n",
    "        xBest, costBest = get_bruteforce_sol(G)\n",
    "        plt.hlines(costBest, 0, max_N, ls='dashed', color='red', label='bruteforce')\n",
    "    plt.legend(fontsize=15)\n",
    "    plt.show()\n",
    "    \n",
    "# visualize result   \n",
    "plot_multiple_exp_val_list([vqe_exp_val_list, qaoa_exp_val_list], ['VQE', \"QAOA\"], G)"
   ]
  },
  {
   "cell_type": "markdown",
   "id": "bfcc5677-c49c-408d-bc0f-161090b1e45a",
   "metadata": {},
   "source": [
    "<div class=\"alert alert-block alert-success\">\n",
    "\n",
    "**(More Challenge) Improve your VQE/QAOA function to solve the Maxcut Problem**  \n",
    "    \n",
    "Play with your *maxcut_vqe_from_scratch* on a more complicated Maxcut problem to see how it behaves! At some point, for some graph, the algorithm becomes insufficient, indicating the room for improvement.\n",
    "    \n",
    "There are literally a million things you can improve from here. To name a few, optimizer, expectation evaluations, etc. I hope you enjoyed the short journey of quantum simulation. Feel free to let me know if you have any question.\n",
    "\n",
    "</div>"
   ]
  },
  {
   "cell_type": "code",
   "execution_count": null,
   "id": "6cd1c424-5a54-412a-95ca-60d121e3be68",
   "metadata": {
    "tags": []
   },
   "outputs": [],
   "source": [
    "n = 10\n",
    "G, pos = prepare_random_maxcut(n, 0.3)\n",
    "xbest_brute, best_cost_brute = get_bruteforce_sol(G)\n",
    "print(\"Best solution = \" + str(xbest_brute) + \"  Maxcut cost = \" + str(best_cost_brute))\n",
    "colors = [\"salmon\" if xbest_brute[i] == 0 else \"cornflowerblue\" for i in range(n)]\n",
    "plot_maxcut(G, pos, colors)"
   ]
  },
  {
   "cell_type": "code",
   "execution_count": null,
   "id": "ac40d224-c6e8-417d-887d-256ead966860",
   "metadata": {
    "tags": []
   },
   "outputs": [],
   "source": [
    "# building ansatz\n",
    "ansatz = get_ansatz(n, 1)\n",
    "ansatz.decompose().draw(scale=0.8, output='mpl')"
   ]
  },
  {
   "cell_type": "code",
   "execution_count": null,
   "id": "4729244f-3974-4ea2-a775-699c89a78ee4",
   "metadata": {
    "tags": []
   },
   "outputs": [],
   "source": [
    "# vqe optimization\n",
    "# taking verbose = True to see the evolutions (might be very long list)\n",
    "opt_res, exp_val_list = maxcut_vqe_from_scratch(G, ansatz, shots=3000, maxiter=500, random_seed=42,\n",
    "                                                verbose=False)\n",
    "plot_vqe_exp_val_list(exp_val_list, G)"
   ]
  },
  {
   "cell_type": "code",
   "execution_count": null,
   "id": "411a7d39-16f7-4cb5-8e5c-8ecd5888fd7f",
   "metadata": {},
   "outputs": [],
   "source": []
  }
 ],
 "metadata": {
  "kernelspec": {
   "display_name": "qiskit1.3",
   "language": "python",
   "name": "qiskit1.3"
  },
  "language_info": {
   "codemirror_mode": {
    "name": "ipython",
    "version": 3
   },
   "file_extension": ".py",
   "mimetype": "text/x-python",
   "name": "python",
   "nbconvert_exporter": "python",
   "pygments_lexer": "ipython3",
   "version": "3.11.11"
  }
 },
 "nbformat": 4,
 "nbformat_minor": 5
}
